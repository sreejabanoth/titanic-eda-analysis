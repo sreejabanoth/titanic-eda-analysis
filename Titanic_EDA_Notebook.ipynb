{
 "cells": [
  {
   "cell_type": "markdown",
   "id": "41bbde8f",
   "metadata": {},
   "source": [
    "# 🧠 Titanic Dataset - Exploratory Data Analysis (EDA)"
   ]
  },
  {
   "cell_type": "code",
   "execution_count": null,
   "id": "7962c120",
   "metadata": {},
   "outputs": [],
   "source": [
    "import pandas as pd\n",
    "import matplotlib.pyplot as plt\n",
    "import seaborn as sns\n",
    "df = pd.read_csv('train.csv')"
   ]
  },
  {
   "cell_type": "markdown",
   "id": "f632d076",
   "metadata": {},
   "source": [
    "## 🔍 Basic Data Overview"
   ]
  },
  {
   "cell_type": "code",
   "execution_count": null,
   "id": "27a51356",
   "metadata": {},
   "outputs": [],
   "source": [
    "df.info()"
   ]
  },
  {
   "cell_type": "code",
   "execution_count": null,
   "id": "c47953eb",
   "metadata": {},
   "outputs": [],
   "source": [
    "df.describe()"
   ]
  },
  {
   "cell_type": "code",
   "execution_count": null,
   "id": "69a0addf",
   "metadata": {},
   "outputs": [],
   "source": [
    "df.isnull().sum()"
   ]
  },
  {
   "cell_type": "markdown",
   "id": "b673d32b",
   "metadata": {},
   "source": [
    "## 📊 Survival Count"
   ]
  },
  {
   "cell_type": "code",
   "execution_count": null,
   "id": "2e0c01e6",
   "metadata": {},
   "outputs": [],
   "source": [
    "sns.countplot(x='Survived', data=df)\n",
    "plt.title('Survival Count')\n",
    "plt.show()"
   ]
  },
  {
   "cell_type": "markdown",
   "id": "d9c806a3",
   "metadata": {},
   "source": [
    "✅ **Observation:** More passengers did not survive than those who did."
   ]
  },
  {
   "cell_type": "markdown",
   "id": "307c30f9",
   "metadata": {},
   "source": [
    "## 🎂 Age Distribution"
   ]
  },
  {
   "cell_type": "code",
   "execution_count": null,
   "id": "3a8ebd36",
   "metadata": {},
   "outputs": [],
   "source": [
    "sns.histplot(df['Age'].dropna(), kde=True)\n",
    "plt.title('Age Distribution')\n",
    "plt.show()"
   ]
  },
  {
   "cell_type": "markdown",
   "id": "cd760cfc",
   "metadata": {},
   "source": [
    "✅ **Observation:** Most passengers were between 20–40 years old."
   ]
  },
  {
   "cell_type": "markdown",
   "id": "6fd9ea31",
   "metadata": {},
   "source": [
    "## 🛳️ Passenger Class vs Survival"
   ]
  },
  {
   "cell_type": "code",
   "execution_count": null,
   "id": "feea069f",
   "metadata": {},
   "outputs": [],
   "source": [
    "sns.countplot(x='Pclass', hue='Survived', data=df)\n",
    "plt.title('Passenger Class vs Survival')\n",
    "plt.show()"
   ]
  },
  {
   "cell_type": "markdown",
   "id": "5fbda85d",
   "metadata": {},
   "source": [
    "✅ **Observation:** 1st class passengers had a higher survival rate."
   ]
  },
  {
   "cell_type": "markdown",
   "id": "5a68d7ee",
   "metadata": {},
   "source": [
    "## 👨‍👩‍👧 Gender vs Survival"
   ]
  },
  {
   "cell_type": "code",
   "execution_count": null,
   "id": "3913ce29",
   "metadata": {},
   "outputs": [],
   "source": [
    "sns.countplot(x='Sex', hue='Survived', data=df)\n",
    "plt.title('Gender vs Survival')\n",
    "plt.show()"
   ]
  },
  {
   "cell_type": "markdown",
   "id": "dfe80590",
   "metadata": {},
   "source": [
    "✅ **Observation:** Females had a significantly higher survival rate."
   ]
  },
  {
   "cell_type": "markdown",
   "id": "8a324087",
   "metadata": {},
   "source": [
    "## 💵 Fare Distribution by Class"
   ]
  },
  {
   "cell_type": "code",
   "execution_count": null,
   "id": "f5c23b03",
   "metadata": {},
   "outputs": [],
   "source": [
    "sns.boxplot(x='Pclass', y='Fare', data=df)\n",
    "plt.title('Fare Distribution by Passenger Class')\n",
    "plt.show()"
   ]
  },
  {
   "cell_type": "markdown",
   "id": "a984cbb4",
   "metadata": {},
   "source": [
    "## ♨️ Correlation Heatmap"
   ]
  },
  {
   "cell_type": "code",
   "execution_count": null,
   "id": "1707d2be",
   "metadata": {},
   "outputs": [],
   "source": [
    "sns.heatmap(df.corr(numeric_only=True), annot=True, cmap='coolwarm')\n",
    "plt.title('Correlation Heatmap')\n",
    "plt.show()"
   ]
  },
  {
   "cell_type": "markdown",
   "id": "36742289",
   "metadata": {},
   "source": [
    "✅ **Observation:** Fare and Pclass show significant correlation with survival."
   ]
  },
  {
   "cell_type": "markdown",
   "id": "6fdc92c4",
   "metadata": {},
   "source": [
    "## 📌 Summary of Findings"
   ]
  },
  {
   "cell_type": "code",
   "execution_count": null,
   "id": "018a37e6",
   "metadata": {},
   "outputs": [],
   "source": [
    "print('Survival Rate: {:.2f}%'.format(df['Survived'].mean() * 100))"
   ]
  },
  {
   "cell_type": "markdown",
   "id": "5e72fd1a",
   "metadata": {},
   "source": [
    "\n",
    "- Survival rate is about 38%.\n",
    "- Females had higher survival rates than males.\n",
    "- Passengers in 1st class had better survival chances.\n",
    "- Age, Fare, Sex, and Pclass are key factors related to survival.\n"
   ]
  }
 ],
 "metadata": {},
 "nbformat": 4,
 "nbformat_minor": 5
}
